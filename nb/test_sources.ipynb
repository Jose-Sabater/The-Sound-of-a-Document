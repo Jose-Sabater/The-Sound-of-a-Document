{
 "cells": [
  {
   "cell_type": "code",
   "execution_count": 26,
   "metadata": {},
   "outputs": [],
   "source": [
    "from openai_completion import OpenAIAssistant\n",
    "from utils.utils import replace_placeholders_in_dict"
   ]
  },
  {
   "cell_type": "code",
   "execution_count": 18,
   "metadata": {},
   "outputs": [],
   "source": [
    "source_decision = {\n",
    "    \"system_message\": \"You are helpful assistant that will reply as short as possible\",\n",
    "    \"user_messages\": [\"\"\"<Context>\n",
    "    You need to find the answer to the question\n",
    "        <Question> \n",
    "            {question}\n",
    "        </Question>     \n",
    "    and you have the following sources available:\n",
    "</Context>\n",
    "\n",
    "<Sources>\n",
    "    1. CSV : contains personal information about when I was in specific countries\n",
    "    2. SQL : contains temperature information in different cities around the world for the past 20 years\n",
    "    3. Chroma : contains wikipedia scraped information about countries\n",
    "    4. Wikipedia-Api: all of wikipedia\n",
    "</Sources>\n",
    "\n",
    "<Instructions>\n",
    "    Return which source you want to use for the query , only the source\n",
    "</Instructions> \"\"\"]\n",
    "    ,\n",
    "    \"assistant_messages\": [],\n",
    "}"
   ]
  },
  {
   "cell_type": "code",
   "execution_count": 19,
   "metadata": {},
   "outputs": [],
   "source": [
    "question1 = \"What is the capital of france\"\n",
    "question2 = \"Where was I in june 2019\"\n",
    "question3 = \"What was the temperature in paris in february 2020\""
   ]
  },
  {
   "cell_type": "code",
   "execution_count": 27,
   "metadata": {},
   "outputs": [],
   "source": [
    "prompt1 = replace_placeholders_in_dict(source_decision, {\"question\": question1})\n",
    "prompt2 = replace_placeholders_in_dict(source_decision, {\"question\": question2})\n",
    "prompt3 = replace_placeholders_in_dict(source_decision, {\"question\": question3})"
   ]
  },
  {
   "cell_type": "code",
   "execution_count": 49,
   "metadata": {},
   "outputs": [],
   "source": [
    "assistant = OpenAIAssistant(model=\"gpt-3.5-turbo\")\n",
    "response1 = assistant.get_openai_completion(**prompt1)"
   ]
  },
  {
   "cell_type": "code",
   "execution_count": 22,
   "metadata": {},
   "outputs": [
    {
     "data": {
      "text/plain": [
       "<OpenAIObject chat.completion id=chatcmpl-89eEiFNSHjDPNLVKq5K2dIZyCh04q at 0x1facebf2d90> JSON: {\n",
       "  \"id\": \"chatcmpl-89eEiFNSHjDPNLVKq5K2dIZyCh04q\",\n",
       "  \"object\": \"chat.completion\",\n",
       "  \"created\": 1697310312,\n",
       "  \"model\": \"gpt-3.5-turbo-0613\",\n",
       "  \"choices\": [\n",
       "    {\n",
       "      \"index\": 0,\n",
       "      \"message\": {\n",
       "        \"role\": \"assistant\",\n",
       "        \"content\": \"I would use the Chroma source for the query.\"\n",
       "      },\n",
       "      \"finish_reason\": \"stop\"\n",
       "    }\n",
       "  ],\n",
       "  \"usage\": {\n",
       "    \"prompt_tokens\": 160,\n",
       "    \"completion_tokens\": 11,\n",
       "    \"total_tokens\": 171\n",
       "  }\n",
       "}"
      ]
     },
     "execution_count": 22,
     "metadata": {},
     "output_type": "execute_result"
    }
   ],
   "source": [
    "response1"
   ]
  },
  {
   "cell_type": "code",
   "execution_count": 23,
   "metadata": {},
   "outputs": [
    {
     "data": {
      "text/plain": [
       "<OpenAIObject chat.completion id=chatcmpl-89eEnDs8c75pGPnmsi640oppDvwDg at 0x1fabec50d60> JSON: {\n",
       "  \"id\": \"chatcmpl-89eEnDs8c75pGPnmsi640oppDvwDg\",\n",
       "  \"object\": \"chat.completion\",\n",
       "  \"created\": 1697310317,\n",
       "  \"model\": \"gpt-3.5-turbo-0613\",\n",
       "  \"choices\": [\n",
       "    {\n",
       "      \"index\": 0,\n",
       "      \"message\": {\n",
       "        \"role\": \"assistant\",\n",
       "        \"content\": \"CSV\"\n",
       "      },\n",
       "      \"finish_reason\": \"stop\"\n",
       "    }\n",
       "  ],\n",
       "  \"usage\": {\n",
       "    \"prompt_tokens\": 163,\n",
       "    \"completion_tokens\": 1,\n",
       "    \"total_tokens\": 164\n",
       "  }\n",
       "}"
      ]
     },
     "execution_count": 23,
     "metadata": {},
     "output_type": "execute_result"
    }
   ],
   "source": [
    "response2 = assistant.get_openai_completion(**prompt2)\n",
    "response2"
   ]
  },
  {
   "cell_type": "code",
   "execution_count": 24,
   "metadata": {},
   "outputs": [
    {
     "data": {
      "text/plain": [
       "<OpenAIObject chat.completion id=chatcmpl-89eF6B9iWvBu5NLHHsPdj9GYQQS4B at 0x1fabed01080> JSON: {\n",
       "  \"id\": \"chatcmpl-89eF6B9iWvBu5NLHHsPdj9GYQQS4B\",\n",
       "  \"object\": \"chat.completion\",\n",
       "  \"created\": 1697310336,\n",
       "  \"model\": \"gpt-3.5-turbo-0613\",\n",
       "  \"choices\": [\n",
       "    {\n",
       "      \"index\": 0,\n",
       "      \"message\": {\n",
       "        \"role\": \"assistant\",\n",
       "        \"content\": \"SQL\"\n",
       "      },\n",
       "      \"finish_reason\": \"stop\"\n",
       "    }\n",
       "  ],\n",
       "  \"usage\": {\n",
       "    \"prompt_tokens\": 166,\n",
       "    \"completion_tokens\": 1,\n",
       "    \"total_tokens\": 167\n",
       "  }\n",
       "}"
      ]
     },
     "execution_count": 24,
     "metadata": {},
     "output_type": "execute_result"
    }
   ],
   "source": [
    "response3 = assistant.get_openai_completion(**prompt3)\n",
    "response3"
   ]
  },
  {
   "cell_type": "markdown",
   "metadata": {},
   "source": [
    "## csv prompt"
   ]
  },
  {
   "cell_type": "code",
   "execution_count": 31,
   "metadata": {},
   "outputs": [],
   "source": [
    "import pandas as pd"
   ]
  },
  {
   "cell_type": "code",
   "execution_count": 36,
   "metadata": {},
   "outputs": [],
   "source": [
    "df = pd.read_csv(\"./data/trips.csv\")\n",
    "data = df.to_records().tolist()"
   ]
  },
  {
   "cell_type": "code",
   "execution_count": 50,
   "metadata": {},
   "outputs": [],
   "source": [
    "csv_prompt = {\n",
    "    \"system_message\": \"You are a JSON machine that can only type JSON\",\n",
    "    \"user_messages\": [\n",
    "        \"What source would you like to use to answer the question: {question}\",\n",
    "        \"\"\"<Context>\n",
    "    Here is the csv file formatted as a list of tuples with the following elements for each tuple:\n",
    "    <Format>\n",
    "        Element 1: Row nr\n",
    "        Element 2: Country\n",
    "        Element 3: City\n",
    "        Element 4: Date of visit\n",
    "        Element 5: Who I was with\n",
    "        Element 6: Reason for visit\n",
    "    </Format>\n",
    "    <Data>\n",
    "        {data}\n",
    "    </Data>\n",
    "</Context>\n",
    "<Instructions>\n",
    "    Answer the question in the following format based on the data above, reply only JSON:\n",
    "    <Format>\n",
    "        \"Answer\": the answer to the question in one sentence,\n",
    "        \"Missing_information\": True/False (if the answer is not in the data)\n",
    "</Instructions>\"\"\",\n",
    "    ],\n",
    "    \"assistant_messages\": [\n",
    "        \"I would like to use the CSV source, which contains personal information about trips\"\n",
    "    ],\n",
    "}"
   ]
  },
  {
   "cell_type": "code",
   "execution_count": 51,
   "metadata": {},
   "outputs": [],
   "source": [
    "question_csv = \"Where was I in june 2019, and who was I with\"\n",
    "prompt_csv = replace_placeholders_in_dict(csv_prompt, {\"question\": question_csv, \"data\": data})"
   ]
  },
  {
   "cell_type": "code",
   "execution_count": 52,
   "metadata": {},
   "outputs": [
    {
     "data": {
      "text/plain": [
       "<OpenAIObject chat.completion id=chatcmpl-89eZCeBi7pt1N5eceMYYjrWLIZGcE at 0x1facfab9bc0> JSON: {\n",
       "  \"id\": \"chatcmpl-89eZCeBi7pt1N5eceMYYjrWLIZGcE\",\n",
       "  \"object\": \"chat.completion\",\n",
       "  \"created\": 1697311582,\n",
       "  \"model\": \"gpt-3.5-turbo-0613\",\n",
       "  \"choices\": [\n",
       "    {\n",
       "      \"index\": 0,\n",
       "      \"message\": {\n",
       "        \"role\": \"assistant\",\n",
       "        \"content\": \"{\\n  \\\"Answer\\\": \\\"In June 2019, you were in Germany (Wuppertal) and you were alone.\\\",\\n  \\\"Missing_information\\\": false\\n}\"\n",
       "      },\n",
       "      \"finish_reason\": \"stop\"\n",
       "    }\n",
       "  ],\n",
       "  \"usage\": {\n",
       "    \"prompt_tokens\": 1145,\n",
       "    \"completion_tokens\": 35,\n",
       "    \"total_tokens\": 1180\n",
       "  }\n",
       "}"
      ]
     },
     "execution_count": 52,
     "metadata": {},
     "output_type": "execute_result"
    }
   ],
   "source": [
    "response_csv = assistant.get_openai_completion(**prompt_csv)\n",
    "response_csv"
   ]
  },
  {
   "cell_type": "code",
   "execution_count": 53,
   "metadata": {},
   "outputs": [
    {
     "name": "stdout",
     "output_type": "stream",
     "text": [
      "{\n",
      "  \"Answer\": \"In June 2019, you were in Germany (Wuppertal) and you were alone.\",\n",
      "  \"Missing_information\": false\n",
      "}\n"
     ]
    }
   ],
   "source": [
    "print(response_csv[\"choices\"][0][\"message\"][\"content\"])"
   ]
  },
  {
   "cell_type": "markdown",
   "metadata": {},
   "source": [
    "## SQL"
   ]
  },
  {
   "cell_type": "code",
   "execution_count": 67,
   "metadata": {},
   "outputs": [],
   "source": [
    "sql_prompt = {\n",
    "    \"system_message\": \"You are a SQL machine that can only type SQL \",\n",
    "    \"user_messages\": [\n",
    "        \"\"\"What source would you like to use to answer the question: \n",
    "        <Question>\n",
    "            {question}\n",
    "        </Question>\n",
    "            \"\"\",\n",
    "        \"\"\"<Context>\n",
    "    You have one table available called Temperature with the following schema.\n",
    "    <Table Schema>\n",
    "        (0, 'region', 'TEXT', 0, None, 0)\n",
    "        (1, 'country', 'TEXT', 0, None, 0)\n",
    "        (2, 'state', 'TEXT', 0, None, 0)\n",
    "        (3, 'city', 'TEXT', 0, None, 0)\n",
    "        (4, 'month', 'INTEGER', 0, None, 0)\n",
    "        (5, 'day', 'INTEGER', 0, None, 0)\n",
    "        (6, 'year', 'INTEGER', 0, None, 0)\n",
    "        (7, 'avgtemperaturef', 'REAL', 0, None, 0)\n",
    "        (8, 'avgtemperaturec', 'REAL', 0, None, 0)\n",
    "    </Table Schema>\n",
    "</Context>\n",
    "<Instructions> \n",
    "   Your task is to return a SQL query to answer the question, only SQL without any other text \n",
    "</Instructions>\"\"\",\n",
    "    ],\n",
    "    \"assistant_messages\": [\n",
    "        \"I would like to use the SQL source, which contains temperature information in different cities around the world for the past 20 years\"\n",
    "    ],\n",
    "}"
   ]
  },
  {
   "cell_type": "code",
   "execution_count": 89,
   "metadata": {},
   "outputs": [
    {
     "data": {
      "text/plain": [
       "{'system_message': 'You are a SQL machine that can only type SQL ',\n",
       " 'user_messages': ['What source would you like to use to answer the question: \\n        <Question>\\n            What was the temperature in Paris the 10th of february 2020\\n        </Question>\\n            ',\n",
       "  \"<Context>\\n    You have one table available called Temperature with the following schema.\\n    <Table Schema>\\n        (0, 'region', 'TEXT', 0, None, 0)\\n        (1, 'country', 'TEXT', 0, None, 0)\\n        (2, 'state', 'TEXT', 0, None, 0)\\n        (3, 'city', 'TEXT', 0, None, 0)\\n        (4, 'month', 'INTEGER', 0, None, 0)\\n        (5, 'day', 'INTEGER', 0, None, 0)\\n        (6, 'year', 'INTEGER', 0, None, 0)\\n        (7, 'avgtemperaturef', 'REAL', 0, None, 0)\\n        (8, 'avgtemperaturec', 'REAL', 0, None, 0)\\n    </Table Schema>\\n</Context>\\n<Instructions> \\n   Your task is to return a SQL query to answer the question, only SQL without any other text \\n</Instructions>\"],\n",
       " 'assistant_messages': ['I would like to use the SQL source, which contains temperature information in different cities around the world for the past 20 years']}"
      ]
     },
     "execution_count": 89,
     "metadata": {},
     "output_type": "execute_result"
    }
   ],
   "source": [
    "question_sql = \"What was the temperature in Paris the 10th of february 2020\"\n",
    "prompt_sql = replace_placeholders_in_dict(sql_prompt, {\"question\": question_sql})\n",
    "prompt_sql"
   ]
  },
  {
   "cell_type": "code",
   "execution_count": 90,
   "metadata": {},
   "outputs": [
    {
     "data": {
      "text/plain": [
       "<OpenAIObject chat.completion id=chatcmpl-89etld4iRHDgBY6WD3Y93TQncsJKW at 0x1facf6246d0> JSON: {\n",
       "  \"id\": \"chatcmpl-89etld4iRHDgBY6WD3Y93TQncsJKW\",\n",
       "  \"object\": \"chat.completion\",\n",
       "  \"created\": 1697312857,\n",
       "  \"model\": \"gpt-3.5-turbo-0613\",\n",
       "  \"choices\": [\n",
       "    {\n",
       "      \"index\": 0,\n",
       "      \"message\": {\n",
       "        \"role\": \"assistant\",\n",
       "        \"content\": \"SELECT avgtemperaturec \\nFROM Temperature \\nWHERE city = 'Paris' AND month = 2 AND day = 10 AND year = 2020;\"\n",
       "      },\n",
       "      \"finish_reason\": \"stop\"\n",
       "    }\n",
       "  ],\n",
       "  \"usage\": {\n",
       "    \"prompt_tokens\": 318,\n",
       "    \"completion_tokens\": 31,\n",
       "    \"total_tokens\": 349\n",
       "  }\n",
       "}"
      ]
     },
     "execution_count": 90,
     "metadata": {},
     "output_type": "execute_result"
    }
   ],
   "source": [
    "response_sql = assistant.get_openai_completion(**prompt_sql)\n",
    "response_sql"
   ]
  },
  {
   "cell_type": "code",
   "execution_count": 91,
   "metadata": {},
   "outputs": [
    {
     "name": "stdout",
     "output_type": "stream",
     "text": [
      "SELECT avgtemperaturec \n",
      "FROM Temperature \n",
      "WHERE city = 'Paris' AND month = 2 AND day = 10 AND year = 2020;\n"
     ]
    }
   ],
   "source": [
    "query_response = response_sql[\"choices\"][0][\"message\"][\"content\"]\n",
    "print(response_sql[\"choices\"][0][\"message\"][\"content\"])"
   ]
  },
  {
   "cell_type": "code",
   "execution_count": 92,
   "metadata": {},
   "outputs": [],
   "source": [
    "sql_prompt_followup = {\n",
    "    \"system_message\": \"You are helpful assistant \",\n",
    "    \"user_messages\": [\n",
    "        \"\"\"What source would you like to use to answer the question: \n",
    "        <Question>\n",
    "            {question}\n",
    "        </Question>\n",
    "            \"\"\",\n",
    "        \"\"\"<Context>\n",
    "                From querying the SQL database witht he following query:\n",
    "                <Query>\n",
    "                    {query}\n",
    "                </Query>\n",
    "                You get the following result:\n",
    "                <Result>\n",
    "                    {result}\n",
    "                </Result>\n",
    "            </Context>\n",
    "            <Instructions>\n",
    "                Answer the question in the following format based on the data above, reply only JSON:\n",
    "                <Format>\n",
    "                    \"Answer\": the answer to the question in one sentence,\n",
    "                    \"Missing_information\": True/False (if the answer is not in the data)\n",
    "            </Instructions>\"\"\",\n",
    "    ],\n",
    "    \"assistant_messages\": [\n",
    "        \"I would like to use the SQL source, which contains temperature information in different cities around the world for the past 20 years\"\n",
    "    ],\n",
    "}"
   ]
  },
  {
   "cell_type": "code",
   "execution_count": 93,
   "metadata": {},
   "outputs": [
    {
     "data": {
      "text/plain": [
       "\"SELECT avgtemperaturec \\nFROM Temperature \\nWHERE city = 'Paris' AND month = 2 AND day = 10 AND year = 2020;\""
      ]
     },
     "execution_count": 93,
     "metadata": {},
     "output_type": "execute_result"
    }
   ],
   "source": [
    "query_response"
   ]
  },
  {
   "cell_type": "code",
   "execution_count": 94,
   "metadata": {},
   "outputs": [
    {
     "name": "stdout",
     "output_type": "stream",
     "text": [
      "[(7.9,)]\n"
     ]
    }
   ],
   "source": [
    "# query the database\n",
    "import sqlite3\n",
    "\n",
    "conn = sqlite3.connect(\"./data/my_database.db\")\n",
    "cursor = conn.cursor()\n",
    "\n",
    "cursor.execute(\"SELECT avgtemperaturec\\nFROM Temperature\\nWHERE city = 'Paris' AND day = 10 AND month = 2 AND year = 2020;\")\n",
    "result = cursor.fetchall()\n",
    "\n",
    "print(result)"
   ]
  },
  {
   "cell_type": "code",
   "execution_count": 96,
   "metadata": {},
   "outputs": [],
   "source": [
    "followup_sql = replace_placeholders_in_dict(\n",
    "    sql_prompt_followup, {\"question\": question_sql, \"query\": response_sql[\"choices\"][0][\"message\"][\"content\"], \"result\": result}\n",
    ")"
   ]
  },
  {
   "cell_type": "code",
   "execution_count": 98,
   "metadata": {},
   "outputs": [
    {
     "data": {
      "text/plain": [
       "<OpenAIObject chat.completion id=chatcmpl-89eueToJsDtPePAbfacVn3B86CiL5 at 0x1facfdff060> JSON: {\n",
       "  \"id\": \"chatcmpl-89eueToJsDtPePAbfacVn3B86CiL5\",\n",
       "  \"object\": \"chat.completion\",\n",
       "  \"created\": 1697312912,\n",
       "  \"model\": \"gpt-3.5-turbo-0613\",\n",
       "  \"choices\": [\n",
       "    {\n",
       "      \"index\": 0,\n",
       "      \"message\": {\n",
       "        \"role\": \"assistant\",\n",
       "        \"content\": \"{\\n    \\\"Answer\\\": \\\"The temperature in Paris on the 10th of February 2020 was 7.9 degrees Celsius.\\\",\\n    \\\"Missing_information\\\": false\\n}\"\n",
       "      },\n",
       "      \"finish_reason\": \"stop\"\n",
       "    }\n",
       "  ],\n",
       "  \"usage\": {\n",
       "    \"prompt_tokens\": 231,\n",
       "    \"completion_tokens\": 36,\n",
       "    \"total_tokens\": 267\n",
       "  }\n",
       "}"
      ]
     },
     "execution_count": 98,
     "metadata": {},
     "output_type": "execute_result"
    }
   ],
   "source": [
    "response_sql_followup = assistant.get_openai_completion(**followup_sql)\n",
    "response_sql_followup"
   ]
  },
  {
   "cell_type": "code",
   "execution_count": 99,
   "metadata": {},
   "outputs": [
    {
     "name": "stdout",
     "output_type": "stream",
     "text": [
      "{\n",
      "    \"Answer\": \"The temperature in Paris on the 10th of February 2020 was 7.9 degrees Celsius.\",\n",
      "    \"Missing_information\": false\n",
      "}\n"
     ]
    }
   ],
   "source": [
    "print(response_sql_followup[\"choices\"][0][\"message\"][\"content\"])"
   ]
  },
  {
   "cell_type": "markdown",
   "metadata": {},
   "source": [
    "## Chroma"
   ]
  },
  {
   "cell_type": "code",
   "execution_count": 9,
   "metadata": {},
   "outputs": [],
   "source": [
    "import chromadb\n",
    "from chromadb.utils import embedding_functions\n",
    "from dotenv import load_dotenv\n",
    "load_dotenv()\n",
    "import os\n",
    "import json"
   ]
  },
  {
   "cell_type": "code",
   "execution_count": 6,
   "metadata": {},
   "outputs": [],
   "source": [
    "hf_api_key = os.getenv(\"HF_API_KEY\")"
   ]
  },
  {
   "cell_type": "code",
   "execution_count": 7,
   "metadata": {},
   "outputs": [],
   "source": [
    "hf_ef = embedding_functions.HuggingFaceEmbeddingFunction(hf_api_key, model_name=\"BAAI/bge-base-en-v1.5\")"
   ]
  },
  {
   "cell_type": "code",
   "execution_count": 8,
   "metadata": {},
   "outputs": [],
   "source": [
    "chroma_client = chromadb.PersistentClient(path=\"./data/chroma_db\")\n",
    "collection = chroma_client.get_or_create_collection(\"country_information\", embedding_function=hf_ef)"
   ]
  },
  {
   "cell_type": "markdown",
   "metadata": {},
   "source": [
    "### Split the data in chunks of 1000"
   ]
  },
  {
   "cell_type": "code",
   "execution_count": 10,
   "metadata": {},
   "outputs": [],
   "source": [
    "#load data\n",
    "with open(\"./data/countries/country_information.json\", \"r\") as f:\n",
    "    countries_information = json.load(f)"
   ]
  },
  {
   "cell_type": "code",
   "execution_count": 14,
   "metadata": {},
   "outputs": [
    {
     "data": {
      "text/plain": [
       "3356"
      ]
     },
     "execution_count": 14,
     "metadata": {},
     "output_type": "execute_result"
    }
   ],
   "source": [
    "len(countries_information[\"Algeria\"][\"content\"])\n",
    "len(countries_information[\"Algeria\"][\"summary\"])"
   ]
  },
  {
   "cell_type": "markdown",
   "metadata": {},
   "source": [
    "### Divide in chunks ending at fullstops"
   ]
  },
  {
   "cell_type": "code",
   "execution_count": 38,
   "metadata": {},
   "outputs": [],
   "source": [
    "import re\n",
    "\n",
    "def split_into_chunks(text, chunk_size=300, min_last_chunk_size=100):\n",
    "    words = text.split()\n",
    "    chunks = []\n",
    "    chunk = []\n",
    "    i = 0\n",
    "\n",
    "    while i < len(words):\n",
    "        word = words[i]\n",
    "        if len(chunk) + len(word.split()) <= chunk_size:\n",
    "            chunk.extend(word.split())\n",
    "            i += 1\n",
    "        else:\n",
    "            if word.endswith('.'):\n",
    "                chunk.extend(word.split())\n",
    "                chunks.append(chunk)\n",
    "                chunk = []\n",
    "                i += 1\n",
    "            else:\n",
    "                # Look for a period in the next few words to find a better breaking point\n",
    "                temp_chunk = chunk.copy()\n",
    "                lookahead_pos = i\n",
    "                found_period = False\n",
    "                while lookahead_pos < len(words):\n",
    "                    next_word = words[lookahead_pos]\n",
    "                    temp_chunk.extend(next_word.split())\n",
    "                    lookahead_pos += 1\n",
    "                    if next_word.endswith('.'):\n",
    "                        found_period = True\n",
    "                        chunk = temp_chunk\n",
    "                        chunks.append(chunk)\n",
    "                        chunk = []\n",
    "                        i = lookahead_pos  # Update main loop's position\n",
    "                        break\n",
    "\n",
    "                if not found_period:\n",
    "                    chunks.append(chunk)\n",
    "                    chunk = [word]\n",
    "                    i += 1\n",
    "\n",
    "    if chunk:\n",
    "        if len(chunk) < min_last_chunk_size and chunks:\n",
    "            chunks[-1].extend(chunk)\n",
    "        else:\n",
    "            chunks.append(chunk)\n",
    "\n",
    "    return [' '.join(chunk) for chunk in chunks]\n",
    "\n",
    "def process_json(data):\n",
    "    documents = []\n",
    "    metadatas = []\n",
    "    ids = []\n",
    "\n",
    "    id_counter = 1\n",
    "\n",
    "    for country, details in data.items():\n",
    "        for source in ['content', 'summary']:\n",
    "            text = details[source]\n",
    "            chunks = split_into_chunks(text)\n",
    "\n",
    "            for idx, chunk in enumerate(chunks):\n",
    "                documents.append(chunk)\n",
    "                last_word_prev_chunk = 'None' if idx == 0 else chunks[idx-1].split()[-1]\n",
    "                \n",
    "                if idx < len(chunks) - 1:\n",
    "                    next_chunk_first_words = ' '.join(chunks[idx+1].split()[:3])\n",
    "                else:\n",
    "                    next_chunk_first_words = 'None'\n",
    "                \n",
    "                metadata = {\n",
    "                    \"country\": country,\n",
    "                    \"paragraph\": idx + 1,\n",
    "                    \"last_word\": chunk.split()[-1],\n",
    "                    \"next_words\": next_chunk_first_words,\n",
    "                    \"last_word_prev_chunk\": last_word_prev_chunk,\n",
    "                    \"source\": source\n",
    "                }\n",
    "                metadatas.append(metadata)\n",
    "                ids.append(f\"{id_counter}\")\n",
    "                id_counter += 1\n",
    "\n",
    "    return documents, metadatas, ids\n",
    "\n",
    "\n",
    "documents, metadatas, ids = process_json(countries_information)\n"
   ]
  },
  {
   "cell_type": "code",
   "execution_count": 47,
   "metadata": {},
   "outputs": [
    {
     "name": "stdout",
     "output_type": "stream",
     "text": [
      "The name was given by Buluggin ibn Ziri after he established the city on the ruins of the Phoenician city of Icosium in 950. It was employed by medieval geographers such as Muhammad al-Idrisi and Yaqut al-Hamawi. The Ottoman Empire extended the name of al-Jazā'ir over the entire country, deriving it from the name of the capital city.Thus, it shares its etymology with numerous other places, such as Alzira in Valencia, Algeciras in Andalusia, Lezíria in Portugal, Cizre in Turkey, Gżira in Malta, the Nile island of Gezira in Egypt, and the state of Gezira in Sudan. History Prehistory and ancient history Around ~1.8-million-year-old stone artifacts from Ain Hanech (Algeria) were considered to represent the oldest archaeological materials in North Africa. Stone artifacts and cut-marked bones that were excavated from two nearby deposits at Ain Boucherit are estimated to be ~1.9 million years old, and even older stone artifacts to be as old as ~2.4 million years. Hence, the Ain Boucherit evidence shows that ancestral hominins inhabited the Mediterranean fringe in northern Africa much earlier than previously thought. The evidence strongly argues for early dispersal of stone tool manufacture and use from East Africa, or a possible multiple-origin scenario of stone technology in both East and North Africa. Neanderthal tool makers produced hand axes in the Levalloisian and Mousterian styles (43,000 BC) similar to those in the Levant. Algeria was the site of the highest state of development of Middle Paleolithic Flake tool techniques. Tools of this era, starting about 30,000 BC, are called Aterian (after the archaeological site of Bir el Ater, south of Tebessa). The earliest blade industries in North Africa are called Iberomaurusian (located mainly in the Oran region). This industry appears to have spread throughout the coastal regions of the Maghreb between 15,000 and 10,000 BC. Neolithic civilization (animal domestication and agriculture) developed in the Saharan and Mediterranean Maghreb perhaps as early as 11,000 BC or as late as between 6000 and 2000 BC.\n",
      "{'country': 'Algeria', 'paragraph': 3, 'last_word': 'BC.', 'next_words': 'This life, richly', 'last_word_prev_chunk': 'Mazghanna\").', 'source': 'content'}\n",
      "4\n"
     ]
    }
   ],
   "source": [
    "print(documents[2])\n",
    "print(metadatas[2])\n",
    "print(ids[3])"
   ]
  },
  {
   "cell_type": "code",
   "execution_count": 54,
   "metadata": {},
   "outputs": [
    {
     "name": "stderr",
     "output_type": "stream",
     "text": [
      "Downloading (…)db36e/.gitattributes: 100%|██████████| 1.52k/1.52k [00:00<?, ?B/s]\n",
      "Downloading (…)_Pooling/config.json: 100%|██████████| 190/190 [00:00<00:00, 197kB/s]\n",
      "Downloading (…)88b99db36e/README.md: 100%|██████████| 90.2k/90.2k [00:00<00:00, 90.3MB/s]\n",
      "Downloading (…)b99db36e/config.json: 100%|██████████| 777/777 [00:00<?, ?B/s] \n",
      "Downloading (…)ce_transformers.json: 100%|██████████| 124/124 [00:00<00:00, 121kB/s]\n",
      "Downloading pytorch_model.bin: 100%|██████████| 438M/438M [00:17<00:00, 25.5MB/s]]\n",
      "Downloading (…)nce_bert_config.json: 100%|██████████| 52.0/52.0 [00:00<?, ?B/s]\n",
      "Downloading (…)cial_tokens_map.json: 100%|██████████| 125/125 [00:00<?, ?B/s] \n",
      "Downloading (…)db36e/tokenizer.json: 100%|██████████| 711k/711k [00:00<00:00, 3.05MB/s]\n",
      "Downloading (…)okenizer_config.json: 100%|██████████| 366/366 [00:00<?, ?B/s] \n",
      "Downloading (…)88b99db36e/vocab.txt: 100%|██████████| 232k/232k [00:00<00:00, 38.6MB/s]\n",
      "Downloading (…)99db36e/modules.json: 100%|██████████| 349/349 [00:00<?, ?B/s] \n"
     ]
    }
   ],
   "source": [
    "from sentence_transformers import SentenceTransformer\n",
    "sentences_1 = documents\n",
    "model = SentenceTransformer('BAAI/bge-base-en-v1.5')\n",
    "embeddings_1 = model.encode(sentences_1, normalize_embeddings=True)"
   ]
  },
  {
   "cell_type": "code",
   "execution_count": 61,
   "metadata": {},
   "outputs": [
    {
     "data": {
      "text/plain": [
       "4717"
      ]
     },
     "execution_count": 61,
     "metadata": {},
     "output_type": "execute_result"
    }
   ],
   "source": [
    "embeddings = embeddings_1.tolist()\n",
    "len(embeddings)"
   ]
  },
  {
   "cell_type": "code",
   "execution_count": 60,
   "metadata": {},
   "outputs": [],
   "source": [
    "collection.add(embeddings=embeddings, documents=documents, metadatas=metadatas, ids=ids)"
   ]
  },
  {
   "cell_type": "code",
   "execution_count": 62,
   "metadata": {},
   "outputs": [
    {
     "data": {
      "text/plain": [
       "{'ids': [['2293',\n",
       "   '2347',\n",
       "   '2346',\n",
       "   '2327',\n",
       "   '2311',\n",
       "   '2295',\n",
       "   '2345',\n",
       "   '2331',\n",
       "   '2320',\n",
       "   '2070']],\n",
       " 'distances': [[0.5583115816116333,\n",
       "   0.5583115816116333,\n",
       "   0.7429412007331848,\n",
       "   0.746076226234436,\n",
       "   0.7520112991333008,\n",
       "   0.7665204405784607,\n",
       "   0.7938966751098633,\n",
       "   0.8169093132019043,\n",
       "   0.8186788558959961,\n",
       "   0.8273496627807617]],\n",
       " 'metadatas': [[{'country': 'France',\n",
       "    'last_word': 'War.',\n",
       "    'last_word_prev_chunk': 'None',\n",
       "    'next_words': 'In the 16th',\n",
       "    'paragraph': 1,\n",
       "    'source': 'content'},\n",
       "   {'country': 'France',\n",
       "    'last_word': 'War.',\n",
       "    'last_word_prev_chunk': 'None',\n",
       "    'next_words': 'In the 16th',\n",
       "    'paragraph': 1,\n",
       "    'source': 'summary'},\n",
       "   {'country': 'France',\n",
       "    'last_word': 'Office',\n",
       "    'last_word_prev_chunk': 'flag.',\n",
       "    'next_words': 'None',\n",
       "    'paragraph': 54,\n",
       "    'source': 'content'},\n",
       "   {'country': 'France',\n",
       "    'last_word': 'life.',\n",
       "    'last_word_prev_chunk': 'France.',\n",
       "    'next_words': 'The Industrial Revolution',\n",
       "    'paragraph': 35,\n",
       "    'source': 'content'},\n",
       "   {'country': 'France',\n",
       "    'last_word': 'mi).',\n",
       "    'last_word_prev_chunk': 'polities.',\n",
       "    'next_words': 'Its EEZ covers',\n",
       "    'paragraph': 19,\n",
       "    'source': 'content'},\n",
       "   {'country': 'France',\n",
       "    'last_word': '.',\n",
       "    'last_word_prev_chunk': '2018.',\n",
       "    'next_words': 'History Prehistory (before',\n",
       "    'paragraph': 3,\n",
       "    'source': 'content'},\n",
       "   {'country': 'France',\n",
       "    'last_word': 'flag.',\n",
       "    'last_word_prev_chunk': 'rum.',\n",
       "    'next_words': 'Football is the',\n",
       "    'paragraph': 53,\n",
       "    'source': 'content'},\n",
       "   {'country': 'France',\n",
       "    'last_word': 'Francophonie.',\n",
       "    'last_word_prev_chunk': '2012.',\n",
       "    'next_words': 'The perceived threat',\n",
       "    'paragraph': 39,\n",
       "    'source': 'content'},\n",
       "   {'country': 'France',\n",
       "    'last_word': '1960.',\n",
       "    'last_word_prev_chunk': 'policies.',\n",
       "    'next_words': 'It is a',\n",
       "    'paragraph': 28,\n",
       "    'source': 'content'},\n",
       "   {'country': 'Belgium',\n",
       "    'last_word': 'governments.',\n",
       "    'last_word_prev_chunk': 'None',\n",
       "    'next_words': 'Since the Middle',\n",
       "    'paragraph': 1,\n",
       "    'source': 'summary'}]],\n",
       " 'embeddings': None,\n",
       " 'documents': [[\"France (French: [fʁɑ̃s] ), officially the French Republic (French: République française [ʁepyblik fʁɑ̃sɛːz]), is a country located primarily in Western Europe. It also includes overseas regions and territories in the Americas and the Atlantic, Pacific and Indian oceans, giving it one of the largest discontiguous exclusive economic zones in the world. Metropolitan France shares borders with Belgium and Luxembourg to the north, Italy to the south east, Switzerland to the east, Germany to the north east, Andorra and Spain to the south and a maritime border with the United Kingdom. Its metropolitan area extends from the Rhine to the Atlantic Ocean and from the Mediterranean Sea to the English Channel and the North Sea; overseas territories include French Guiana in South America, Saint Pierre and Miquelon in the North Atlantic, the French West Indies, and many islands in Oceania and the Indian Ocean. Its eighteen integral regions (five of which are overseas) span a combined area of 643,801 km2 (248,573 sq mi) and have a total population of over 68 million as of January 2023. France is a unitary semi-presidential republic with its capital in Paris, the country's largest city and main cultural and commercial centre; other major urban areas include Marseille, Lyon, Toulouse, Lille, Bordeaux, Strasbourg and Nice. Metropolitan France was settled during the Iron Age by Celtic tribes known as Gauls before Rome annexed the area in 51 BC, leading to a distinct Gallo-Roman culture. In the Early Middle Ages, the Germanic Franks formed the Kingdom of Francia, which became the heartland of the Carolingian Empire. The Treaty of Verdun of 843 partitioned the empire, with West Francia becoming the Kingdom of France in 987. In the High Middle Ages, France was a powerful but decentralized feudal kingdom, but from the mid-14th to the mid-15th centuries, France was plunged into a dynastic conflict with England known as the Hundred Years' War.\",\n",
       "   \"France (French: [fʁɑ̃s] ), officially the French Republic (French: République française [ʁepyblik fʁɑ̃sɛːz]), is a country located primarily in Western Europe. It also includes overseas regions and territories in the Americas and the Atlantic, Pacific and Indian oceans, giving it one of the largest discontiguous exclusive economic zones in the world. Metropolitan France shares borders with Belgium and Luxembourg to the north, Italy to the south east, Switzerland to the east, Germany to the north east, Andorra and Spain to the south and a maritime border with the United Kingdom. Its metropolitan area extends from the Rhine to the Atlantic Ocean and from the Mediterranean Sea to the English Channel and the North Sea; overseas territories include French Guiana in South America, Saint Pierre and Miquelon in the North Atlantic, the French West Indies, and many islands in Oceania and the Indian Ocean. Its eighteen integral regions (five of which are overseas) span a combined area of 643,801 km2 (248,573 sq mi) and have a total population of over 68 million as of January 2023. France is a unitary semi-presidential republic with its capital in Paris, the country's largest city and main cultural and commercial centre; other major urban areas include Marseille, Lyon, Toulouse, Lille, Bordeaux, Strasbourg and Nice. Metropolitan France was settled during the Iron Age by Celtic tribes known as Gauls before Rome annexed the area in 51 BC, leading to a distinct Gallo-Roman culture. In the Early Middle Ages, the Germanic Franks formed the Kingdom of Francia, which became the heartland of the Carolingian Empire. The Treaty of Verdun of 843 partitioned the empire, with West Francia becoming the Kingdom of France in 987. In the High Middle Ages, France was a powerful but decentralized feudal kingdom, but from the mid-14th to the mid-15th centuries, France was plunged into a dynastic conflict with England known as the Hundred Years' War.\",\n",
       "   'Football is the most popular sport in France, with over 1,800,000 registered players and over 18,000 registered clubs.The French Open, also called Roland-Garros, is a major tennis tournament held over two weeks between late May and early June at the Stade Roland-Garros in Paris. It is the premier clay court tennis championship event in the world and the second of four annual Grand Slam tournaments.Rugby union is popular, particularly in Paris and the southwest of France. The national rugby union team has competed at every Rugby World Cup; it takes part in the annual Six Nations Championship. See also Outline of France Footnotes References Further reading External links France at Organisation for Economic Co-operation and Development France at UCB Libraries GovPubs France at Curlie France at the EU Wikimedia Atlas of France Geographic data related to France at OpenStreetMap Key Development Forecasts for France from International Futures Economy INSEE OECD France statistics Government France.fr – official French tourism site (in English) Gouvernement.fr – official site of the government (in French) Official site of the French public service – links to various administrations and institutions Official site of the National Assembly Culture Contemporary French Civilization. Archived 27 August 2007 at the Wayback Machine. Journal, University of Illinois. FranceGuide – official site of the French Government Tourist Office',\n",
       "   'Charles de Gaulle Airport, located in the vicinity of Paris, is the largest and busiest airport in the country, handling the vast majority of popular and commercial traffic and connecting Paris with virtually all major cities across the world. Air France is the national carrier airline, although numerous private airline companies provide domestic and international travel services. There are ten major ports in France, the largest of which is in Marseille, which also is the largest bordering the Mediterranean Sea.12,261 kilometres (7,619 mi) of waterways traverse France including the Canal du Midi, which connects the Mediterranean Sea to the Atlantic Ocean through the Garonne river. Science and technology Since the Middle Ages, France has been a contributor to scientific and technological achievement. In the early 11th century, the French-born Pope Sylvester II reintroduced the abacus and armillary sphere and introduced Arabic numerals and clocks to much of Europe. The University of Paris, founded in the mid-12th century, is still one of the most important academic institutions in the Western world. In the 17th century, mathematician and philosopher René Descartes pioneered rationalism as a method for acquiring scientific knowledge, while Blaise Pascal became famous for his work on probability and fluid mechanics; both were key figures of the Scientific Revolution, which blossomed in Europe during this period. The French Academy of Sciences, founded in the mid-17th century by Louis XIV to encourage and protect French scientific research, was one of the earliest national scientific institutions in history. The Age of Enlightenment was marked by the work of biologist Buffon, one of the first naturalists to recognise ecological succession, and chemist Lavoisier, who discovered the role of oxygen in combustion. Diderot and D\\'Alembert published the Encyclopédie, which aimed to give the public access to \"useful knowledge\" that could be applied to everyday life.',\n",
       "   'It is bordered by the North Sea in the north, the English Channel in the northwest, the Atlantic Ocean in the west and the Mediterranean sea in the southeast. Its land borders consist of Belgium and Luxembourg in the northeast, Germany and Switzerland in the east, Italy and Monaco in the southeast, and Andorra and Spain in the south and southwest. Except for the northeast, most of France\\'s land borders are roughly delineated by natural boundaries and geographic features: to the south and southeast, the Pyrenees and the Alps and the Jura, respectively, and to the east, the Rhine river. Due to its shape, France is often referred to as l\\'Hexagone (\"The Hexagon\"). Metropolitan France includes various coastal islands, of which the largest is Corsica. Metropolitan France is situated mostly between latitudes 41° and 51° N, and longitudes 6° W and 10° E, on the western edge of Europe, and thus lies within the northern temperate zone. Its continental part covers about 1000 km from north to south and from east to west. Metropolitan France covers 551,500 square kilometres (212,935 sq mi), the largest among European Union members. France\\'s total land area, with its overseas departments and territories (excluding Adélie Land), is 643,801 km2 (248,573 sq mi), 0.45% of the total land area on Earth. France possesses a wide variety of landscapes, from coastal plains in the north and west to mountain ranges of the Alps in the southeast, the Massif Central in the south-central and Pyrenees in the southwest. Due to its numerous overseas departments and territories scattered across the planet, France possesses the second-largest Exclusive economic zone (EEZ) in the world, covering 11,035,000 km2 (4,261,000 sq mi), just behind the EEZ of the United States, which covers 11,351,000 km2 (4,383,000 sq mi), but ahead of the EEZ of Australia, which covers 8,148,250 km2 (3,146,000 sq mi).',\n",
       "   'France is a developed country with the world\\'s seventh-largest economy by nominal GDP and ninth-largest by PPP. It remains a great power in global affairs, being one of the five permanent members of the United Nations Security Council and an official nuclear-weapon state. France is a founding and leading member of the European Union and the eurozone, as well as a key member of the Group of Seven, North Atlantic Treaty Organization (NATO), Organisation for Economic Co-operation and Development (OECD) and Francophonie. Etymology and pronunciation Originally applied to the whole Frankish Empire, the name France comes from the Latin Francia, or \"realm of the Franks\". Modern France is still named today Francia in Italian and Spanish, while Frankreich in German, Frankrijk in Dutch and Frankrike in Swedish and Norwegian all mean \"Land/realm of the Franks\". The name of the Franks is related to the English word frank (\"free\"): the latter stems from the Old French franc (\"free, noble, sincere\"), ultimately from Medieval Latin francus (\"free, exempt from service; freeman, Frank\"), a generalisation of the tribal name that emerged as a Late Latin borrowing of the reconstructed Frankish endonym *Frank. It has been suggested that the meaning \"free\" was adopted because, after the conquest of Gaul, only Franks were free of taxation, or more generally because they had the status of freemen in contrast to servants or slaves.The etymology of *Frank is uncertain. It is traditionally derived from the Proto-Germanic word *frankōn, which translates as \"javelin\" or \"lance\" (the throwing axe of the Franks was known as the francisca), although these weapons may have been named because of their use by the Franks, not the other way around.In English, \\'France\\' is pronounced FRANSS in American English and FRAHNSS or FRANSS in British English. The pronunciation with is mostly confined to accents with the trap-bath split such as Received Pronunciation, though it can be also heard in some other dialects such as Cardiff English, in which is in free variation with .',\n",
       "   'The three main French brewing regions are Alsace (60% of national production), Nord-Pas-de-Calais and Lorraine. French rum is made in distilleries located on islands in the Atlantic and Indian oceans. Sports France hosts \"the world\\'s biggest annual sporting event\", the Tour de France. Other popular sports played in France include: football, judo, tennis, rugby union and pétanque. France has hosted events such as the 1938 and 1998 FIFA World Cups, the 2007 Rugby World Cup, and will host the 2023 Rugby World Cup. The country also hosted the 1960 European Nations\\' Cup, UEFA Euro 1984, UEFA Euro 2016 and 2019 FIFA Women\\'s World Cup. The Stade de France in Saint-Denis is France\\'s largest stadium and was the venue for the 1998 FIFA World Cup and 2007 Rugby World Cup finals. Since 1923, France is famous for its 24 Hours of Le Mans sports car endurance race. Several major tennis tournaments take place in France, including the Paris Masters and the French Open, one of the four Grand Slam tournaments. French martial arts include Savate and Fencing.France has a close association with the Modern Olympic Games; it was a French aristocrat, Baron Pierre de Coubertin, who suggested the Games\\' revival, at the end of the 19th century. After Athens was awarded the first Games, in reference to the Olympics\\' Greek origins, Paris hosted the second Games in 1900. Paris was the first home of the International Olympic Committee, before it moved to Lausanne. Since 1900, France has hosted the Olympics on 4 further occasions: the 1924 Summer Olympics, again in Paris and three Winter Games (1924 in Chamonix, 1968 in Grenoble and 1992 in Albertville). Similar to the Olympics, France introduced Olympics for the deaf people (Deaflympics) in 1924 with the idea of a French deaf car mechanic, Eugène Rubens-Alcais who paved the way to organise the inaugural edition of the Summer Deaflympics in Paris.Both the national football team and the national rugby union team are nicknamed \"Les Bleus\" in reference to the team\\'s shirt colour as well as the national French tricolour flag.',\n",
       "   \"According to the French Institute, this increase resulted from the financial crisis that hit several European countries in that period. Statistics on Spanish immigrants in France show a growth of 107 per cent between 2009 and 2012, with the population growing from 5,300 to 11,000. Of the total of 229,000 foreigners who were in France in 2012, nearly 8% were Portuguese, 5% British, 5% Spanish, 4% Italian, 4% German, 3% Romanian, and 3% Belgian. Major cities France is a highly urbanised country, with its largest cities (in terms of metropolitan area population in 2019) being Paris (13,114,718 inh.), Lyon (2,280,845), Marseille (1,873,270), Lille (1,510,079), Toulouse (1,454,158), Bordeaux (1,363,711), Nantes (1,011,020), Strasbourg (853,110), Montpellier (801,595), and Rennes (755,668). (Note: since its 2020 revision of metropolitan area borders, INSEE considers that Nice is a metropolitan area separate from the Cannes-Antibes metropolitan area; these two combined would have a population of 1,008,296, as of the 2019 census). Rural flight was a perennial political issue throughout most of the 20th century. Language The official language of France is French, a Romance language derived from Latin. Since 1635, the Académie française has been France's official authority on the French language, although its recommendations carry no legal weight. There are also regional languages spoken in France, such as Occitan, Breton, Catalan, Flemish (Dutch dialect), Alsatian (German dialect), Basque, and Corsican (Italian dialect). Italian was the official language of Corsica until 9 May 1859.The Government of France does not regulate the choice of language in publications by individuals, but the use of French is required by law in commercial and workplace communications. In addition to mandating the use of French in the territory of the Republic, the French government tries to promote French in the European Union and globally through institutions such as the Organisation internationale de la Francophonie.\",\n",
       "   'Under Nicolas Sarkozy, France rejoined the NATO joint military command on 4 April 2009.France retains strong political and economic influence in its former African colonies (Françafrique) and has supplied economic aid and troops for peacekeeping missions in Ivory Coast and Chad. From 2012 to 2021, France and other African states intervened in support of the Malian government in the Northern Mali conflict. In 2017, France was the world\\'s fourth-largest donor of development aid in absolute terms, behind the United States, Germany, and the United Kingdom. This represents 0.43% of its GNP, the 12th highest among the OECD. Aid is provided by the governmental French Development Agency, which finances primarily humanitarian projects in sub-Saharan Africa, with an emphasis on \"developing infrastructure, access to health care and education, the implementation of appropriate economic policies and the consolidation of the rule of law and democracy\". Military The French Armed Forces (Forces armées françaises) are the military and paramilitary forces of France, under the President of the Republic as supreme commander. They consist of the French Army (Armée de Terre), the French Navy (Marine Nationale, formerly called Armée de Mer), the French Air and Space Force (Armée de l\\'Air et de l’Espace), and the National Gendarmerie (Gendarmerie nationale), which serves as both military police and civil police in rural areas. Together they are among the largest armed forces in the world and the largest in the EU. According to a 2018 study by Crédit Suisse, the French Armed Forces ranked as the world\\'s sixth-most powerful military, and the second most powerful in Europe after Russia. France\\'s annual military expenditure in 2022 was US$53.6 billion, or 1.9% of its GDP, making it the eighth biggest military spender in the world. There has been no national conscription since 1997.France has been a recognised nuclear state since 1960.',\n",
       "   \"Belgium, officially the Kingdom of Belgium, is a country in Northwestern Europe. The country is bordered by the Netherlands to the north, Germany to the east, Luxembourg to the southeast, France to the southwest, and the North Sea to the northwest. It covers an area of 30,528 km2 (11,787 sq mi) and has a population of more than 11.5 million, making it the 22nd most densely populated country in the world and the 6th most densely populated country in Europe, with a density of 376/km2 (970/sq mi). Belgium is part of an area known as the Low Countries, historically a somewhat larger region than the Benelux group of states, as it also included parts of northern France. The capital and largest metropolitan region is Brussels; other major cities are Antwerp, Ghent, Charleroi, Liège, Bruges, Namur, and Leuven. Belgium is a sovereign state and a federal constitutional monarchy with a parliamentary system. Its institutional organization is complex and is structured on both regional and linguistic grounds. It is divided into three highly autonomous regions: the Flemish Region (Flanders) in the north, the Walloon Region (Wallonia) in the south, and the Brussels-Capital Region. Brussels is the smallest and most densely populated region, as well as the richest region in terms of GDP per capita. Belgium is also home to two main linguistic communities: the Flemish Community, which constitutes about 60 percent of the population, and the French Community, which constitutes about 40 percent of the population. A small German-speaking Community, making up around one percent of the population, exists in the East Cantons. The Brussels-Capital Region is officially bilingual in French and Dutch, although French is the majority language and lingua franca. Belgium's linguistic diversity and related political conflicts are reflected in its complex system of governance, made up of six different governments.\"]]}"
      ]
     },
     "execution_count": 62,
     "metadata": {},
     "output_type": "execute_result"
    }
   ],
   "source": [
    "collection.query(query_texts=[\"What is the capital of France?\"], n_results=10)"
   ]
  }
 ],
 "metadata": {
  "kernelspec": {
   "display_name": "venv",
   "language": "python",
   "name": "python3"
  },
  "language_info": {
   "codemirror_mode": {
    "name": "ipython",
    "version": 3
   },
   "file_extension": ".py",
   "mimetype": "text/x-python",
   "name": "python",
   "nbconvert_exporter": "python",
   "pygments_lexer": "ipython3",
   "version": "3.10.9"
  }
 },
 "nbformat": 4,
 "nbformat_minor": 2
}
