{
 "cells": [
  {
   "cell_type": "code",
   "execution_count": null,
   "metadata": {},
   "outputs": [],
   "source": [
    "\"\"\" Scrapes the wikipedia page of the political systems and extracts the \n",
    "summary and the full page content.\"\"\"\n",
    "# Content from Wikipedia's \"Topic Name\" article\n",
    "# Licensed under CC BY-SA 3.0: https://creativecommons.org/licenses/by-sa/3.0/ for governments under\n",
    "# ./settings.json"
   ]
  },
  {
   "cell_type": "code",
   "execution_count": null,
   "metadata": {},
   "outputs": [],
   "source": [
    "import pandas as pd\n",
    "import json\n",
    "import requests\n",
    "#!pip install Wikipedia-API\n",
    "import wikipediaapi"
   ]
  },
  {
   "cell_type": "code",
   "execution_count": null,
   "metadata": {},
   "outputs": [],
   "source": [
    "with open (\"../data/countries.json\",\"r\") as f:\n",
    "    countries = json.load(f)"
   ]
  },
  {
   "cell_type": "code",
   "execution_count": null,
   "metadata": {},
   "outputs": [],
   "source": [
    "wiki_wiki = wikipediaapi.Wikipedia(\"jose.sabater.iglesias@gmail.com\", language= \"en\")\n",
    "\n",
    "def get_summary(topic):\n",
    "    \"\"\" Returns the summary of the topic.\"\"\"\n",
    "    # Get the page for the topic\n",
    "    page = wiki_wiki.page(topic)\n",
    "    \n",
    "    # Return the summary of the topic\n",
    "    return page.summary\n",
    "\n",
    "def get_full_page_content(topic):\n",
    "    \"\"\" Returns the full page content of the topic.\"\"\"\n",
    "    # Get the page for the topic\n",
    "    page = wiki_wiki.page(topic)\n",
    "    return page.text"
   ]
  },
  {
   "cell_type": "code",
   "execution_count": null,
   "metadata": {},
   "outputs": [],
   "source": [
    "country_information = {}\n",
    "for country in countries:\n",
    "    country_information[country] = {} \n",
    "    content = get_full_page_content(country)\n",
    "    if content:\n",
    "        country_information[country][\"content\"] = content\n",
    "    summary = get_summary(country)\n",
    "    if summary:\n",
    "        country_information[country][\"summary\"] = summary\n"
   ]
  },
  {
   "cell_type": "code",
   "execution_count": null,
   "metadata": {},
   "outputs": [],
   "source": [
    "for country, info in country_information.items():\n",
    "    print(country)\n",
    "    print(\"Content:\", info.get(\"content\", \"N/A\"))\n",
    "    print(\"Summary:\", info.get(\"summary\", \"N/A\"))\n",
    "    print(\"-\" * 40)"
   ]
  },
  {
   "cell_type": "code",
   "execution_count": null,
   "metadata": {},
   "outputs": [],
   "source": [
    "# Save temporarily as a json\n",
    "with open(\"../data/country_information.json\", \"w\") as f:\n",
    "    json.dump(country_information, f)"
   ]
  },
  {
   "cell_type": "code",
   "execution_count": null,
   "metadata": {},
   "outputs": [],
   "source": []
  }
 ],
 "metadata": {
  "kernelspec": {
   "display_name": "venv",
   "language": "python",
   "name": "python3"
  },
  "language_info": {
   "codemirror_mode": {
    "name": "ipython",
    "version": 3
   },
   "file_extension": ".py",
   "mimetype": "text/x-python",
   "name": "python",
   "nbconvert_exporter": "python",
   "pygments_lexer": "ipython3",
   "version": "3.10.9"
  }
 },
 "nbformat": 4,
 "nbformat_minor": 2
}
