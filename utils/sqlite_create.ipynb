{
 "cells": [
  {
   "cell_type": "code",
   "execution_count": null,
   "metadata": {},
   "outputs": [],
   "source": [
    "import pandas as pd\n",
    "import numpy as np\n",
    "import matplotlib.pyplot as plt\n",
    "\n",
    "%load_ext lab_black\n",
    "# ignore notebook errors\n",
    "import warnings\n",
    "\n",
    "warnings.filterwarnings(\"ignore\")"
   ]
  },
  {
   "cell_type": "markdown",
   "metadata": {},
   "source": [
    "Dataset from:  \n",
    "https://www.kaggle.com/datasets/subhamjain/temperature-of-all-countries-19952020"
   ]
  },
  {
   "cell_type": "code",
   "execution_count": null,
   "metadata": {},
   "outputs": [],
   "source": [
    "raw = pd.read_csv(\"../data/city_temperature.csv\")"
   ]
  },
  {
   "cell_type": "code",
   "execution_count": null,
   "metadata": {},
   "outputs": [],
   "source": [
    "raw.head()"
   ]
  },
  {
   "cell_type": "code",
   "execution_count": null,
   "metadata": {},
   "outputs": [],
   "source": [
    "raw.info()"
   ]
  },
  {
   "cell_type": "code",
   "execution_count": null,
   "metadata": {},
   "outputs": [],
   "source": [
    "# Add column with temperature in celsius\n",
    "temperature = raw.copy()\n",
    "temperature[\"AvgTemperatureC\"] = ((temperature[\"AvgTemperature\"] - 32) * 5 / 9).round(1)\n",
    "temperature.rename(columns={\"AvgTemperature\": \"AvgTemperatureF\"}, inplace=True)\n",
    "del raw"
   ]
  },
  {
   "cell_type": "code",
   "execution_count": null,
   "metadata": {},
   "outputs": [],
   "source": [
    "# format column names to be only lowercase\n",
    "temperature.columns = temperature.columns.str.lower()"
   ]
  },
  {
   "cell_type": "code",
   "execution_count": null,
   "metadata": {},
   "outputs": [],
   "source": [
    "temperature.head()"
   ]
  },
  {
   "cell_type": "code",
   "execution_count": null,
   "metadata": {},
   "outputs": [],
   "source": [
    "# Check a couple to make sure they are correct\n",
    "temperature[temperature[\"city\"] == \"Madrid\"].groupby(\"month\")[\n",
    "    \"avgtemperaturec\"\n",
    "].mean().plot(kind=\"bar\")\n",
    "plt.title(\"Average Temperature in Madrid by Month\")\n",
    "plt.show()"
   ]
  },
  {
   "cell_type": "code",
   "execution_count": null,
   "metadata": {},
   "outputs": [],
   "source": [
    "temperature[temperature[\"city\"] == \"Stockholm\"].groupby(\"month\")[\n",
    "    \"avgtemperaturec\"\n",
    "].mean().plot(kind=\"bar\")\n",
    "plt.title(\"Average Temperature in Madrid by Month\")\n",
    "plt.show()"
   ]
  },
  {
   "cell_type": "markdown",
   "metadata": {},
   "source": [
    "## Evaluation \n",
    "Everything seems correct  \n",
    "Lets move it to a database sqlite since it comes with python"
   ]
  },
  {
   "cell_type": "code",
   "execution_count": null,
   "metadata": {},
   "outputs": [],
   "source": [
    "import sqlite3"
   ]
  },
  {
   "cell_type": "code",
   "execution_count": null,
   "metadata": {},
   "outputs": [],
   "source": [
    "with sqlite3.connect(\"../data/my_database.db\") as conn:\n",
    "    temperature.to_sql(\"temperature\", conn, if_exists=\"replace\", index=False)"
   ]
  },
  {
   "cell_type": "code",
   "execution_count": null,
   "metadata": {},
   "outputs": [],
   "source": [
    "# lets try it out\n",
    "with sqlite3.connect(\"../data/my_database.db\") as conn:\n",
    "    df = pd.read_sql_query(\"SELECT DISTINCT COUNTRY FROM temperature;\", conn)\n",
    "\n",
    "df[\"country\"].to_list()"
   ]
  },
  {
   "cell_type": "code",
   "execution_count": null,
   "metadata": {},
   "outputs": [],
   "source": [
    "# save a list of the countries as a json\n",
    "import json\n",
    "\n",
    "with open(\"../data/countries.json\", \"w\") as f:\n",
    "    json.dump(df[\"country\"].to_list(), f)"
   ]
  },
  {
   "cell_type": "code",
   "execution_count": null,
   "metadata": {},
   "outputs": [],
   "source": [
    "def get_schema(database_path, table_name=None):\n",
    "    # Connect to the SQLite database\n",
    "    conn = sqlite3.connect(database_path)\n",
    "    cursor = conn.cursor()\n",
    "\n",
    "    # If a specific table name is provided\n",
    "    if table_name:\n",
    "        cursor.execute(f\"PRAGMA table_info({table_name})\")\n",
    "        columns = cursor.fetchall()\n",
    "        for column in columns:\n",
    "            print(column)\n",
    "    # If no specific table name is provided, retrieve schema for all tables\n",
    "    else:\n",
    "        cursor.execute(\"SELECT name FROM sqlite_master WHERE type='table';\")\n",
    "        tables = cursor.fetchall()\n",
    "        for table in tables:\n",
    "            table_name = table[0]\n",
    "            print(f\"Schema for {table_name}:\")\n",
    "            cursor.execute(f\"PRAGMA table_info({table_name})\")\n",
    "            columns = cursor.fetchall()\n",
    "            for column in columns:\n",
    "                print(column)\n",
    "            print(\"------\")\n",
    "\n",
    "    # Close the connection\n",
    "    conn.close()\n",
    "\n",
    "\n",
    "# Usage\n",
    "database_path = \"../data/my_database.db\"\n",
    "get_schema(database_path)  # Get schema for all tables\n",
    "# g"
   ]
  }
 ],
 "metadata": {
  "kernelspec": {
   "display_name": "venv",
   "language": "python",
   "name": "python3"
  },
  "language_info": {
   "codemirror_mode": {
    "name": "ipython",
    "version": 3
   },
   "file_extension": ".py",
   "mimetype": "text/x-python",
   "name": "python",
   "nbconvert_exporter": "python",
   "pygments_lexer": "ipython3",
   "version": "3.10.9"
  }
 },
 "nbformat": 4,
 "nbformat_minor": 2
}
